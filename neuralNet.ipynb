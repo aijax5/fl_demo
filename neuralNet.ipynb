{
 "nbformat": 4,
 "nbformat_minor": 2,
 "metadata": {
  "language_info": {
   "name": "python",
   "codemirror_mode": {
    "name": "ipython",
    "version": 3
   },
   "version": "3.6.8-final"
  },
  "orig_nbformat": 2,
  "file_extension": ".py",
  "mimetype": "text/x-python",
  "name": "python",
  "npconvert_exporter": "python",
  "pygments_lexer": "ipython3",
  "version": 3,
  "kernelspec": {
   "name": "python36864bitnnenvvenv4142882f25744b629b9828a5dfbca68c",
   "display_name": "Python 3.6.8 64-bit ('nn_env': venv)"
  }
 },
 "cells": [
  {
   "cell_type": "code",
   "execution_count": 2,
   "metadata": {},
   "outputs": [],
   "source": [
    "import tensorflow as tf\n",
    "from tensorflow import keras\n",
    "\n",
    "\n",
    "(x_train, y_train), (x_val, y_val) = keras.datasets.fashion_mnist.load_data()"
   ]
  },
  {
   "cell_type": "code",
   "execution_count": 3,
   "metadata": {},
   "outputs": [],
   "source": [
    "def preprocess(x, y):\n",
    "    x = tf.cast(x, tf.float32) / 255.0\n",
    "    y = tf.cast(y, tf.int64)\n",
    "\n",
    "    return x, y\n",
    "\n",
    "def create_dataset(xs, ys, n_classes=10):\n",
    "    le=len(ys)\n",
    "    ys = tf.one_hot(ys, depth=n_classes)\n",
    "    return tf.data.Dataset.from_tensor_slices((xs, ys)) \\\n",
    "    .map(preprocess) \\\n",
    "    .shuffle(le) \\\n",
    "    .batch(128)\n"
   ]
  },
  {
   "cell_type": "code",
   "execution_count": 4,
   "metadata": {},
   "outputs": [],
   "source": [
    "train_dataset = create_dataset(x_train, y_train)\n",
    "val_dataset = create_dataset(x_val, y_val)"
   ]
  },
  {
   "cell_type": "code",
   "execution_count": 5,
   "metadata": {},
   "outputs": [],
   "source": [
    "model = keras.Sequential([\n",
    "    keras.layers.Reshape(target_shape=(28 * 28,), input_shape=(28, 28)),\n",
    "    keras.layers.Dense(units=256, activation='relu'),\n",
    "    keras.layers.Dense(units=192, activation='relu'),\n",
    "    keras.layers.Dense(units=128, activation='relu'),\n",
    "    keras.layers.Dense(units=10, activation='softmax')\n",
    "])"
   ]
  },
  {
   "cell_type": "code",
   "execution_count": 6,
   "metadata": {},
   "outputs": [
    {
     "name": "stdout",
     "output_type": "stream",
     "text": "Train for 500 steps, validate for 2 steps\nEpoch 1/10\n500/500 [==============================] - 4s 8ms/step - loss: 1.6925 - accuracy: 0.7734 - val_loss: 1.6257 - val_accuracy: 0.8359\nEpoch 2/10\n500/500 [==============================] - 2s 4ms/step - loss: 1.6267 - accuracy: 0.8347 - val_loss: 1.5982 - val_accuracy: 0.8633\nEpoch 3/10\n500/500 [==============================] - 2s 4ms/step - loss: 1.6111 - accuracy: 0.8499 - val_loss: 1.6299 - val_accuracy: 0.8281\nEpoch 4/10\n500/500 [==============================] - 2s 4ms/step - loss: 1.6042 - accuracy: 0.8570 - val_loss: 1.6234 - val_accuracy: 0.8398\nEpoch 5/10\n500/500 [==============================] - 2s 4ms/step - loss: 1.5994 - accuracy: 0.8617 - val_loss: 1.6250 - val_accuracy: 0.8320\nEpoch 6/10\n500/500 [==============================] - 2s 4ms/step - loss: 1.5948 - accuracy: 0.8661 - val_loss: 1.6317 - val_accuracy: 0.8281\nEpoch 7/10\n500/500 [==============================] - 2s 4ms/step - loss: 1.5914 - accuracy: 0.8697 - val_loss: 1.6040 - val_accuracy: 0.8672\nEpoch 8/10\n500/500 [==============================] - 2s 4ms/step - loss: 1.5899 - accuracy: 0.8708 - val_loss: 1.6063 - val_accuracy: 0.8594\nEpoch 9/10\n500/500 [==============================] - 2s 4ms/step - loss: 1.5858 - accuracy: 0.8749 - val_loss: 1.5883 - val_accuracy: 0.8711\nEpoch 10/10\n500/500 [==============================] - 2s 4ms/step - loss: 1.5856 - accuracy: 0.8752 - val_loss: 1.6203 - val_accuracy: 0.8359\n"
    }
   ],
   "source": [
    "model.compile(optimizer='adam', \n",
    "              loss=tf.losses.CategoricalCrossentropy(from_logits=True),\n",
    "              metrics=['accuracy'])\n",
    "\n",
    "history = model.fit(\n",
    "    train_dataset.repeat(), \n",
    "    epochs=10, \n",
    "    steps_per_epoch=500,\n",
    "    validation_data=val_dataset.repeat(), \n",
    "    validation_steps=2\n",
    ")"
   ]
  },
  {
   "cell_type": "code",
   "execution_count": 7,
   "metadata": {},
   "outputs": [],
   "source": [
    "weights=model.get_weights()"
   ]
  },
  {
   "cell_type": "code",
   "execution_count": 8,
   "metadata": {},
   "outputs": [
    {
     "name": "stdout",
     "output_type": "stream",
     "text": "256\n[[ 0.10346406  0.0032122   0.08070219 ... -0.01163197 -0.05858454\n  -0.0338107 ]\n [-0.17957085  0.06237883  0.09251096 ...  0.1398365  -0.08810046\n  -0.06426002]\n [-0.15706696  0.04789362 -0.08603342 ... -0.00087887  0.03454068\n  -0.06497915]\n ...\n [ 0.19111323  0.14879546  0.07199135 ...  0.08319613 -0.08988746\n   0.04148456]\n [-0.0208783   0.07826222  0.00540599 ...  0.06691579 -0.09912369\n  -0.00688414]\n [-0.21548598  0.00832344 -0.13435714 ... -0.0423876  -0.01324358\n  -0.01884459]]\n"
    }
   ],
   "source": [
    "import numpy as np\n",
    "print(len(weights[2]))\n",
    "print(weights[2])\n",
    "new_w=[];\n",
    "for i,weight in enumerate(weights):\n",
    "    if i==0:\n",
    "        new_w.append(weight)\n",
    "    elif i%2 ==1:\n",
    "        new_w.append(np.array(weight)*2)\n",
    "    else:\n",
    "        new_w.append(weight*3)\n",
    "\n",
    "# weights"
   ]
  },
  {
   "cell_type": "code",
   "execution_count": 9,
   "metadata": {},
   "outputs": [
    {
     "data": {
      "text/plain": "numpy.ndarray"
     },
     "execution_count": 9,
     "metadata": {},
     "output_type": "execute_result"
    }
   ],
   "source": [
    "type(weights[0])"
   ]
  },
  {
   "cell_type": "code",
   "execution_count": 10,
   "metadata": {},
   "outputs": [
    {
     "data": {
      "text/plain": "array([[ 0.31039217,  0.00963661,  0.24210656, ..., -0.03489591,\n        -0.17575361, -0.10143209],\n       [-0.53871256,  0.1871365 ,  0.27753288, ...,  0.41950953,\n        -0.26430136, -0.19278006],\n       [-0.47120088,  0.14368086, -0.25810027, ..., -0.00263661,\n         0.10362203, -0.19493745],\n       ...,\n       [ 0.5733397 ,  0.44638637,  0.21597403, ...,  0.24958837,\n        -0.26966238,  0.12445367],\n       [-0.06263492,  0.23478667,  0.01621797, ...,  0.20074737,\n        -0.29737106, -0.02065242],\n       [-0.6464579 ,  0.02497031, -0.4030714 , ..., -0.12716281,\n        -0.03973075, -0.05653376]], dtype=float32)"
     },
     "execution_count": 10,
     "metadata": {},
     "output_type": "execute_result"
    }
   ],
   "source": [
    "new_w[2]"
   ]
  },
  {
   "cell_type": "code",
   "execution_count": 16,
   "metadata": {},
   "outputs": [
    {
     "data": {
      "text/plain": "0"
     },
     "execution_count": 16,
     "metadata": {},
     "output_type": "execute_result"
    }
   ],
   "source": [
    "import os\n",
    "os.system('pip freeze >>requirements.txt')"
   ]
  },
  {
   "cell_type": "code",
   "execution_count": 15,
   "metadata": {},
   "outputs": [
    {
     "ename": "ModuleNotFoundError",
     "evalue": "No module named 'socketIO_client'",
     "output_type": "error",
     "traceback": [
      "\u001b[0;31m---------------------------------------------------------------------------\u001b[0m",
      "\u001b[0;31mModuleNotFoundError\u001b[0m                       Traceback (most recent call last)",
      "\u001b[0;32m<ipython-input-15-872275250ca5>\u001b[0m in \u001b[0;36m<module>\u001b[0;34m\u001b[0m\n\u001b[1;32m      1\u001b[0m \u001b[0;32mimport\u001b[0m \u001b[0mcodecs\u001b[0m\u001b[0;34m\u001b[0m\u001b[0;34m\u001b[0m\u001b[0m\n\u001b[0;32m----> 2\u001b[0;31m \u001b[0;32mimport\u001b[0m \u001b[0msocketIO_client\u001b[0m\u001b[0;34m\u001b[0m\u001b[0;34m\u001b[0m\u001b[0m\n\u001b[0m\u001b[1;32m      3\u001b[0m \u001b[0;32mimport\u001b[0m \u001b[0mflask\u001b[0m\u001b[0;34m\u001b[0m\u001b[0;34m\u001b[0m\u001b[0m\n\u001b[1;32m      4\u001b[0m \u001b[0;32mimport\u001b[0m \u001b[0mflask_socketio\u001b[0m\u001b[0;34m\u001b[0m\u001b[0;34m\u001b[0m\u001b[0m\n\u001b[1;32m      5\u001b[0m \u001b[0;32mimport\u001b[0m \u001b[0mscikitlearn\u001b[0m\u001b[0;34m\u001b[0m\u001b[0;34m\u001b[0m\u001b[0m\n",
      "\u001b[0;31mModuleNotFoundError\u001b[0m: No module named 'socketIO_client'"
     ]
    }
   ],
   "source": [
    "import codecs\n",
    "import socketIO_client\n",
    "import flask\n",
    "import flask_socketio\n",
    "import scikitlearn\n",
    "print(codecs.__version__)\n",
    "print(socketIO_client.__version__)\n",
    "print(flask.__version__)\n",
    "print(flask_socketio.__version__)\n",
    "print(scikit.__version__)"
   ]
  },
  {
   "cell_type": "code",
   "execution_count": null,
   "metadata": {},
   "outputs": [],
   "source": []
  }
 ]
}