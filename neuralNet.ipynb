{
 "nbformat": 4,
 "nbformat_minor": 2,
 "metadata": {
  "language_info": {
   "name": "python",
   "codemirror_mode": {
    "name": "ipython",
    "version": 3
   },
   "version": "3.6.8-final"
  },
  "orig_nbformat": 2,
  "file_extension": ".py",
  "mimetype": "text/x-python",
  "name": "python",
  "npconvert_exporter": "python",
  "pygments_lexer": "ipython3",
  "version": 3,
  "kernelspec": {
   "name": "python36864bitnnenvvenv4142882f25744b629b9828a5dfbca68c",
   "display_name": "Python 3.6.8 64-bit ('nn_env': venv)"
  }
 },
 "cells": [
  {
   "cell_type": "code",
   "execution_count": 1,
   "metadata": {},
   "outputs": [
    {
     "name": "stdout",
     "output_type": "stream",
     "text": "Downloading data from https://storage.googleapis.com/tensorflow/tf-keras-datasets/train-labels-idx1-ubyte.gz\n32768/29515 [=================================] - 0s 2us/step\nDownloading data from https://storage.googleapis.com/tensorflow/tf-keras-datasets/train-images-idx3-ubyte.gz\n26427392/26421880 [==============================] - 12s 0us/step\nDownloading data from https://storage.googleapis.com/tensorflow/tf-keras-datasets/t10k-labels-idx1-ubyte.gz\n8192/5148 [===============================================] - 0s 0us/step\nDownloading data from https://storage.googleapis.com/tensorflow/tf-keras-datasets/t10k-images-idx3-ubyte.gz\n4423680/4422102 [==============================] - 2s 1us/step\n"
    }
   ],
   "source": [
    "import tensorflow as tf\n",
    "from tensorflow import keras\n",
    "\n",
    "(x_train, y_train), (x_val, y_val) = keras.datasets.fashion_mnist.load_data()"
   ]
  },
  {
   "cell_type": "code",
   "execution_count": 2,
   "metadata": {},
   "outputs": [],
   "source": [
    "def preprocess(x, y):\n",
    "    x = tf.cast(x, tf.float32) / 255.0\n",
    "    y = tf.cast(y, tf.int64)\n",
    "\n",
    "    return x, y\n",
    "\n",
    "def create_dataset(xs, ys, n_classes=10):\n",
    "    le=len(ys)\n",
    "    ys = tf.one_hot(ys, depth=n_classes)\n",
    "    return tf.data.Dataset.from_tensor_slices((xs, ys)) \\\n",
    "    .map(preprocess) \\\n",
    "    .shuffle(le) \\\n",
    "    .batch(128)\n"
   ]
  },
  {
   "cell_type": "code",
   "execution_count": 3,
   "metadata": {},
   "outputs": [],
   "source": [
    "train_dataset = create_dataset(x_train, y_train)\n",
    "val_dataset = create_dataset(x_val, y_val)"
   ]
  },
  {
   "cell_type": "code",
   "execution_count": 4,
   "metadata": {},
   "outputs": [],
   "source": [
    "model = keras.Sequential([\n",
    "    keras.layers.Reshape(target_shape=(28 * 28,), input_shape=(28, 28)),\n",
    "    keras.layers.Dense(units=256, activation='relu'),\n",
    "    keras.layers.Dense(units=192, activation='relu'),\n",
    "    keras.layers.Dense(units=128, activation='relu'),\n",
    "    keras.layers.Dense(units=10, activation='softmax')\n",
    "])"
   ]
  },
  {
   "cell_type": "code",
   "execution_count": 5,
   "metadata": {},
   "outputs": [
    {
     "name": "stdout",
     "output_type": "stream",
     "text": "Train for 500 steps, validate for 2 steps\nEpoch 1/10\n500/500 [==============================] - 4s 8ms/step - loss: 1.7017 - accuracy: 0.7637 - val_loss: 1.7026 - val_accuracy: 0.7578\nEpoch 2/10\n500/500 [==============================] - 2s 4ms/step - loss: 1.6311 - accuracy: 0.8309 - val_loss: 1.6412 - val_accuracy: 0.8125\nEpoch 3/10\n500/500 [==============================] - 2s 4ms/step - loss: 1.6180 - accuracy: 0.8434 - val_loss: 1.6261 - val_accuracy: 0.8281\nEpoch 4/10\n500/500 [==============================] - 2s 4ms/step - loss: 1.6109 - accuracy: 0.8499 - val_loss: 1.6158 - val_accuracy: 0.8477\nEpoch 5/10\n500/500 [==============================] - 2s 4ms/step - loss: 1.6047 - accuracy: 0.8558 - val_loss: 1.6430 - val_accuracy: 0.8125\nEpoch 6/10\n500/500 [==============================] - 2s 4ms/step - loss: 1.6028 - accuracy: 0.8581 - val_loss: 1.6250 - val_accuracy: 0.8359\nEpoch 7/10\n500/500 [==============================] - 2s 4ms/step - loss: 1.5951 - accuracy: 0.8656 - val_loss: 1.6297 - val_accuracy: 0.8320\nEpoch 8/10\n500/500 [==============================] - 2s 4ms/step - loss: 1.5918 - accuracy: 0.8689 - val_loss: 1.5733 - val_accuracy: 0.8906\nEpoch 9/10\n500/500 [==============================] - 2s 4ms/step - loss: 1.5883 - accuracy: 0.8728 - val_loss: 1.6328 - val_accuracy: 0.8320\nEpoch 10/10\n500/500 [==============================] - 2s 4ms/step - loss: 1.5884 - accuracy: 0.8722 - val_loss: 1.6115 - val_accuracy: 0.8438\n"
    }
   ],
   "source": [
    "model.compile(optimizer='adam', \n",
    "              loss=tf.losses.CategoricalCrossentropy(from_logits=True),\n",
    "              metrics=['accuracy'])\n",
    "\n",
    "history = model.fit(\n",
    "    train_dataset.repeat(), \n",
    "    epochs=10, \n",
    "    steps_per_epoch=500,\n",
    "    validation_data=val_dataset.repeat(), \n",
    "    validation_steps=2\n",
    ")"
   ]
  },
  {
   "cell_type": "code",
   "execution_count": 11,
   "metadata": {},
   "outputs": [],
   "source": [
    "weights=model.get_weights()"
   ]
  },
  {
   "cell_type": "code",
   "execution_count": 30,
   "metadata": {},
   "outputs": [
    {
     "data": {
      "text/plain": "192"
     },
     "execution_count": 30,
     "metadata": {},
     "output_type": "execute_result"
    }
   ],
   "source": [
    "len(weights[2][0])"
   ]
  },
  {
   "cell_type": "code",
   "execution_count": 21,
   "metadata": {},
   "outputs": [
    {
     "data": {
      "text/plain": "numpy.ndarray"
     },
     "execution_count": 21,
     "metadata": {},
     "output_type": "execute_result"
    }
   ],
   "source": [
    "type(weights[2][0])"
   ]
  },
  {
   "cell_type": "code",
   "execution_count": null,
   "metadata": {},
   "outputs": [],
   "source": [
    "    "
   ]
  }
 ]
}