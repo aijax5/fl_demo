{
 "nbformat": 4,
 "nbformat_minor": 2,
 "metadata": {
  "language_info": {
   "name": "python",
   "codemirror_mode": {
    "name": "ipython",
    "version": 3
   },
   "version": "3.6.8-final"
  },
  "orig_nbformat": 2,
  "file_extension": ".py",
  "mimetype": "text/x-python",
  "name": "python",
  "npconvert_exporter": "python",
  "pygments_lexer": "ipython3",
  "version": 3,
  "kernelspec": {
   "name": "python36864bitnnenvvenv68ee63175ca540baadec94ec44edd193",
   "display_name": "Python 3.6.8 64-bit ('nn_env': venv)"
  }
 },
 "cells": [
  {
   "cell_type": "code",
   "execution_count": 1,
   "metadata": {},
   "outputs": [],
   "source": [
    "import tensorflow as tf\n",
    "from tensorflow import keras\n",
    "\n",
    "(x_train, y_train), (x_val, y_val) = keras.datasets.fashion_mnist.load_data()"
   ]
  },
  {
   "cell_type": "code",
   "execution_count": 2,
   "metadata": {},
   "outputs": [],
   "source": [
    "def preprocess(x, y):\n",
    "    x = tf.cast(x, tf.float32) / 255.0\n",
    "    y = tf.cast(y, tf.int64)\n",
    "\n",
    "    return x, y\n",
    "\n",
    "def create_dataset(xs, ys, n_classes=10):\n",
    "    le=len(ys)\n",
    "    ys = tf.one_hot(ys, depth=n_classes)\n",
    "    return tf.data.Dataset.from_tensor_slices((xs, ys)) \\\n",
    "    .map(preprocess) \\\n",
    "    .shuffle(le) \\\n",
    "    .batch(128)\n"
   ]
  },
  {
   "cell_type": "code",
   "execution_count": 3,
   "metadata": {},
   "outputs": [],
   "source": [
    "train_dataset = create_dataset(x_train, y_train)\n",
    "val_dataset = create_dataset(x_val, y_val)"
   ]
  },
  {
   "cell_type": "code",
   "execution_count": 4,
   "metadata": {},
   "outputs": [],
   "source": [
    "model = keras.Sequential([\n",
    "    keras.layers.Reshape(target_shape=(28 * 28,), input_shape=(28, 28)),\n",
    "    keras.layers.Dense(units=256, activation='relu'),\n",
    "    keras.layers.Dense(units=192, activation='relu'),\n",
    "    keras.layers.Dense(units=128, activation='relu'),\n",
    "    keras.layers.Dense(units=10, activation='softmax')\n",
    "])"
   ]
  },
  {
   "cell_type": "code",
   "execution_count": 5,
   "metadata": {},
   "outputs": [
    {
     "name": "stdout",
     "output_type": "stream",
     "text": "Train for 500 steps, validate for 2 steps\nEpoch 1/10\n500/500 [==============================] - 4s 8ms/step - loss: 1.6799 - accuracy: 0.7874 - val_loss: 1.6133 - val_accuracy: 0.8555\nEpoch 2/10\n500/500 [==============================] - 2s 4ms/step - loss: 1.6230 - accuracy: 0.8385 - val_loss: 1.6042 - val_accuracy: 0.8633\nEpoch 3/10\n500/500 [==============================] - 2s 4ms/step - loss: 1.6101 - accuracy: 0.8512 - val_loss: 1.6232 - val_accuracy: 0.8398\nEpoch 4/10\n500/500 [==============================] - 2s 4ms/step - loss: 1.6087 - accuracy: 0.8523 - val_loss: 1.5794 - val_accuracy: 0.8789\nEpoch 5/10\n500/500 [==============================] - 2s 4ms/step - loss: 1.5987 - accuracy: 0.8621 - val_loss: 1.6354 - val_accuracy: 0.8242\nEpoch 6/10\n500/500 [==============================] - 2s 4ms/step - loss: 1.5944 - accuracy: 0.8663 - val_loss: 1.6055 - val_accuracy: 0.8555\nEpoch 7/10\n500/500 [==============================] - 2s 4ms/step - loss: 1.5941 - accuracy: 0.8669 - val_loss: 1.6173 - val_accuracy: 0.8359\nEpoch 8/10\n500/500 [==============================] - 2s 4ms/step - loss: 1.5892 - accuracy: 0.8718 - val_loss: 1.6038 - val_accuracy: 0.8633\nEpoch 9/10\n500/500 [==============================] - 2s 4ms/step - loss: 1.5899 - accuracy: 0.8707 - val_loss: 1.6042 - val_accuracy: 0.8555\nEpoch 10/10\n500/500 [==============================] - 2s 4ms/step - loss: 1.5859 - accuracy: 0.8748 - val_loss: 1.5624 - val_accuracy: 0.8984\n"
    }
   ],
   "source": [
    "model.compile(optimizer='adam', \n",
    "              loss=tf.losses.CategoricalCrossentropy(from_logits=True),\n",
    "              metrics=['accuracy'])\n",
    "\n",
    "history = model.fit(\n",
    "    train_dataset.repeat(), \n",
    "    epochs=10, \n",
    "    steps_per_epoch=500,\n",
    "    validation_data=val_dataset.repeat(), \n",
    "    validation_steps=2\n",
    ")"
   ]
  },
  {
   "cell_type": "code",
   "execution_count": 13,
   "metadata": {},
   "outputs": [
    {
     "data": {
      "text/plain": "ST7PMct773N7h29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\\ncTh0cTliZS4=\\n'"
     },
     "execution_count": 13,
     "metadata": {},
     "output_type": "execute_result"
    }
   ],
   "source": [
    "import pickle\n",
    "import codecs\n",
    "\n",
    "codecs.encode(pickle.dumps(model.get_weights()),\"base64\").decode()"
   ]
  },
  {
   "cell_type": "code",
   "execution_count": null,
   "metadata": {},
   "outputs": [],
   "source": []
  }
 ]
}