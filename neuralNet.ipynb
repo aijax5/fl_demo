{
 "nbformat": 4,
 "nbformat_minor": 2,
 "metadata": {
  "language_info": {
   "name": "python",
   "codemirror_mode": {
    "name": "ipython",
    "version": 3
   },
   "version": "3.6.8-final"
  },
  "orig_nbformat": 2,
  "file_extension": ".py",
  "mimetype": "text/x-python",
  "name": "python",
  "npconvert_exporter": "python",
  "pygments_lexer": "ipython3",
  "version": 3,
  "kernelspec": {
   "name": "python36864bitnnenvvenv4142882f25744b629b9828a5dfbca68c",
   "display_name": "Python 3.6.8 64-bit ('nn_env': venv)"
  }
 },
 "cells": [
  {
   "cell_type": "code",
   "execution_count": 1,
   "metadata": {},
   "outputs": [],
   "source": [
    "import tensorflow as tf\n",
    "from tensorflow import keras\n",
    "\n",
    "\n",
    "(x_train, y_train), (x_val, y_val) = keras.datasets.fashion_mnist.load_data()"
   ]
  },
  {
   "cell_type": "code",
   "execution_count": 2,
   "metadata": {},
   "outputs": [],
   "source": [
    "def preprocess(x, y):\n",
    "    x = tf.cast(x, tf.float32) / 255.0\n",
    "    y = tf.cast(y, tf.int64)\n",
    "\n",
    "    return x, y\n",
    "\n",
    "def create_dataset(xs, ys, n_classes=10):\n",
    "    le=len(ys)\n",
    "    ys = tf.one_hot(ys, depth=n_classes)\n",
    "    return tf.data.Dataset.from_tensor_slices((xs, ys)) \\\n",
    "    .map(preprocess) \\\n",
    "    .shuffle(le) \\\n",
    "    .batch(128)\n"
   ]
  },
  {
   "cell_type": "code",
   "execution_count": 3,
   "metadata": {},
   "outputs": [],
   "source": [
    "train_dataset = create_dataset(x_train, y_train)\n",
    "val_dataset = create_dataset(x_val, y_val)"
   ]
  },
  {
   "cell_type": "code",
   "execution_count": 4,
   "metadata": {},
   "outputs": [],
   "source": [
    "model = keras.Sequential([\n",
    "    keras.layers.Reshape(target_shape=(28 * 28,), input_shape=(28, 28)),\n",
    "    keras.layers.Dense(units=256, activation='relu'),\n",
    "    keras.layers.Dense(units=192, activation='relu'),\n",
    "    keras.layers.Dense(units=128, activation='relu'),\n",
    "    keras.layers.Dense(units=10, activation='softmax')\n",
    "])"
   ]
  },
  {
   "cell_type": "code",
   "execution_count": 5,
   "metadata": {},
   "outputs": [
    {
     "name": "stdout",
     "output_type": "stream",
     "text": "Train for 500 steps, validate for 2 steps\nEpoch 1/10\n500/500 [==============================] - 4s 7ms/step - loss: 1.7491 - accuracy: 0.7163 - val_loss: 1.6973 - val_accuracy: 0.7656\nEpoch 2/10\n500/500 [==============================] - 2s 4ms/step - loss: 1.6960 - accuracy: 0.7651 - val_loss: 1.6768 - val_accuracy: 0.7891\nEpoch 3/10\n500/500 [==============================] - 2s 5ms/step - loss: 1.6727 - accuracy: 0.7885 - val_loss: 1.6993 - val_accuracy: 0.7656\nEpoch 4/10\n500/500 [==============================] - 2s 4ms/step - loss: 1.6643 - accuracy: 0.7965 - val_loss: 1.6487 - val_accuracy: 0.8125\nEpoch 5/10\n500/500 [==============================] - 2s 4ms/step - loss: 1.6606 - accuracy: 0.8002 - val_loss: 1.6998 - val_accuracy: 0.7617\nEpoch 6/10\n500/500 [==============================] - 2s 4ms/step - loss: 1.6546 - accuracy: 0.8063 - val_loss: 1.6652 - val_accuracy: 0.7930\nEpoch 7/10\n500/500 [==============================] - 2s 4ms/step - loss: 1.6520 - accuracy: 0.8087 - val_loss: 1.6894 - val_accuracy: 0.7734\nEpoch 8/10\n500/500 [==============================] - 2s 4ms/step - loss: 1.6538 - accuracy: 0.8071 - val_loss: 1.6672 - val_accuracy: 0.7930\nEpoch 9/10\n500/500 [==============================] - 2s 4ms/step - loss: 1.6480 - accuracy: 0.8126 - val_loss: 1.7022 - val_accuracy: 0.7578\nEpoch 10/10\n500/500 [==============================] - 2s 4ms/step - loss: 1.6477 - accuracy: 0.8130 - val_loss: 1.6426 - val_accuracy: 0.8203\n"
    }
   ],
   "source": [
    "model.compile(optimizer='adam', \n",
    "              loss=tf.losses.CategoricalCrossentropy(from_logits=True),\n",
    "              metrics=['accuracy'])\n",
    "\n",
    "history = model.fit(\n",
    "    train_dataset.repeat(), \n",
    "    epochs=10, \n",
    "    steps_per_epoch=500,\n",
    "    validation_data=val_dataset.repeat(), \n",
    "    validation_steps=2\n",
    ")"
   ]
  },
  {
   "cell_type": "code",
   "execution_count": 6,
   "metadata": {},
   "outputs": [],
   "source": [
    "weights=model.get_weights()"
   ]
  },
  {
   "cell_type": "code",
   "execution_count": 27,
   "metadata": {},
   "outputs": [
    {
     "name": "stdout",
     "output_type": "stream",
     "text": "256\n[[ 0.16230051  0.03145216  0.22375041 ... -0.05054053  0.264603\n   0.05829823]\n [-0.0686494   0.0758021  -0.19056806 ... -0.05589221 -0.01039014\n  -0.11984411]\n [ 0.10782806  0.0396307  -0.14551792 ...  0.09090099 -0.10998756\n   0.05305202]\n ...\n [ 0.04609544  0.0805263   0.09422747 ... -0.04625442 -0.11567344\n   0.0696032 ]\n [-0.03284322  0.01683136  0.07694931 ... -0.02273826  0.09015141\n  -0.03810262]\n [-0.06147341  0.02901897  0.15435362 ... -0.10796605 -0.07921346\n   0.06150447]]\n"
    }
   ],
   "source": [
    "import numpy as np\n",
    "print(len(weights[2]))\n",
    "print(weights[2])\n",
    "new_w=[];\n",
    "for i,weight in enumerate(weights):\n",
    "    if i==0:\n",
    "        new_w.append(weight)\n",
    "    elif i%2 ==1:\n",
    "        new_w.append(np.array(weight)*2)\n",
    "    else:\n",
    "        new_w.append(weight*3)\n",
    "\n",
    "# weights"
   ]
  },
  {
   "cell_type": "code",
   "execution_count": 31,
   "metadata": {},
   "outputs": [
    {
     "data": {
      "text/plain": "numpy.ndarray"
     },
     "execution_count": 31,
     "metadata": {},
     "output_type": "execute_result"
    }
   ],
   "source": [
    "type(weights[0])"
   ]
  },
  {
   "cell_type": "code",
   "execution_count": 30,
   "metadata": {},
   "outputs": [
    {
     "data": {
      "text/plain": "array([[ 0.48690152,  0.09435649,  0.67125124, ..., -0.15162158,\n         0.79380894,  0.17489469],\n       [-0.2059482 ,  0.2274063 , -0.57170415, ..., -0.16767663,\n        -0.03117042, -0.35953233],\n       [ 0.32348418,  0.1188921 , -0.43655375, ...,  0.272703  ,\n        -0.3299627 ,  0.15915605],\n       ...,\n       [ 0.13828632,  0.2415789 ,  0.28268242, ..., -0.13876325,\n        -0.34702033,  0.20880958],\n       [-0.09852965,  0.05049409,  0.23084792, ..., -0.06821477,\n         0.27045423, -0.11430785],\n       [-0.18442024,  0.08705691,  0.46306086, ..., -0.32389814,\n        -0.23764038,  0.1845134 ]], dtype=float32)"
     },
     "execution_count": 30,
     "metadata": {},
     "output_type": "execute_result"
    }
   ],
   "source": [
    "new_w[2]"
   ]
  },
  {
   "cell_type": "code",
   "execution_count": null,
   "metadata": {},
   "outputs": [],
   "source": []
  }
 ]
}